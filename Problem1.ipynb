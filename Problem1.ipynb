{
 "cells": [
  {
   "cell_type": "code",
   "execution_count": 49,
   "metadata": {},
   "outputs": [
    {
     "data": {
      "image/png": "[encoded data removed]",
      "text/plain": [
       "<Figure size 432x288 with 1 Axes>"
      ]
     },
     "metadata": {
      "needs_background": "light"
     },
     "output_type": "display_data"
    },
    {
     "name": "stdout",
     "output_type": "stream",
     "text": [
      "19028\n",
      "1\n",
      "1\n",
      "0        AFG\n",
      "1        AFG\n",
      "2        AFG\n",
      "3        AFG\n",
      "4        AFG\n",
      "        ... \n",
      "19023    ZWE\n",
      "19024    ZWE\n",
      "19025    ZWE\n",
      "19026    ZWE\n",
      "19027    ZWE\n",
      "Name: Code, Length: 19028, dtype: object\n",
      "0       AFG\n",
      "1       AFG\n",
      "2       AFG\n",
      "3       AFG\n",
      "4       AFG\n",
      "       ... \n",
      "7104    ZWE\n",
      "7105    ZWE\n",
      "7106    ZWE\n",
      "7107    ZWE\n",
      "7108    ZWE\n",
      "Name: Code, Length: 7109, dtype: object\n",
      "0        1950\n",
      "1        1951\n",
      "2        1952\n",
      "3        1953\n",
      "4        1954\n",
      "         ... \n",
      "19023    2015\n",
      "19024    2016\n",
      "19025    2017\n",
      "19026    2018\n",
      "19027    2019\n",
      "Name: Year, Length: 19028, dtype: int64\n",
      "0       2002\n",
      "1       2003\n",
      "2       2004\n",
      "3       2005\n",
      "4       2006\n",
      "        ... \n",
      "7104    2016\n",
      "7105    2017\n",
      "7106    2018\n",
      "7107    2019\n",
      "7108    2020\n",
      "Name: Year, Length: 7109, dtype: int64\n"
     ]
    },
    {
     "ename": "TypeError",
     "evalue": "'Series' object is not callable",
     "output_type": "error",
     "traceback": [
      "\u001b[1;31m---------------------------------------------------------------------------\u001b[0m",
      "\u001b[1;31mTypeError\u001b[0m                                 Traceback (most recent call last)",
      "\u001b[1;32m~\\AppData\\Local\\Temp/ipykernel_17772/2645463004.py\u001b[0m in \u001b[0;36m<module>\u001b[1;34m\u001b[0m\n\u001b[0;32m     38\u001b[0m \u001b[1;33m\u001b[0m\u001b[0m\n\u001b[0;32m     39\u001b[0m \u001b[1;33m\u001b[0m\u001b[0m\n\u001b[1;32m---> 40\u001b[1;33m \u001b[0mtestData\u001b[0m \u001b[1;33m=\u001b[0m \u001b[0mrelateData\u001b[0m\u001b[1;33m(\u001b[0m\u001b[0mlifeExpectancy\u001b[0m\u001b[1;33m,\u001b[0m \u001b[0mgdpworldbank\u001b[0m\u001b[1;33m)\u001b[0m\u001b[1;33m\u001b[0m\u001b[1;33m\u001b[0m\u001b[0m\n\u001b[0m\u001b[0;32m     41\u001b[0m \u001b[1;33m\u001b[0m\u001b[0m\n\u001b[0;32m     42\u001b[0m \u001b[1;33m\u001b[0m\u001b[0m\n",
      "\u001b[1;32m~\\AppData\\Local\\Temp/ipykernel_17772/2645463004.py\u001b[0m in \u001b[0;36mrelateData\u001b[1;34m(lifeExpectancyData, GDPData)\u001b[0m\n\u001b[0;32m     32\u001b[0m             \u001b[0mprint\u001b[0m\u001b[1;33m(\u001b[0m\u001b[0mGDPData\u001b[0m\u001b[1;33m.\u001b[0m\u001b[0mYear\u001b[0m\u001b[1;33m)\u001b[0m\u001b[1;33m\u001b[0m\u001b[1;33m\u001b[0m\u001b[0m\n\u001b[0;32m     33\u001b[0m \u001b[1;33m\u001b[0m\u001b[0m\n\u001b[1;32m---> 34\u001b[1;33m             \u001b[1;32mif\u001b[0m \u001b[0mGDPData\u001b[0m\u001b[1;33m.\u001b[0m\u001b[0mCode\u001b[0m\u001b[1;33m(\u001b[0m\u001b[0mdrop\u001b[0m\u001b[1;33m=\u001b[0m\u001b[1;32mTrue\u001b[0m\u001b[1;33m)\u001b[0m\u001b[1;33m.\u001b[0m\u001b[0mequals\u001b[0m\u001b[1;33m(\u001b[0m\u001b[0mlifeExpectancy\u001b[0m\u001b[1;33m.\u001b[0m\u001b[0mCode\u001b[0m\u001b[1;33m(\u001b[0m\u001b[0mdrop\u001b[0m\u001b[1;33m=\u001b[0m\u001b[1;32mTrue\u001b[0m\u001b[1;33m)\u001b[0m\u001b[1;33m)\u001b[0m \u001b[1;32mand\u001b[0m \u001b[0mGDPData\u001b[0m\u001b[1;33m.\u001b[0m\u001b[0mYear\u001b[0m\u001b[1;33m(\u001b[0m\u001b[0mdrop\u001b[0m\u001b[1;33m=\u001b[0m\u001b[1;32mTrue\u001b[0m\u001b[1;33m)\u001b[0m\u001b[1;33m.\u001b[0m\u001b[0mequals\u001b[0m\u001b[1;33m(\u001b[0m\u001b[0mlifeExpectancy\u001b[0m\u001b[1;33m.\u001b[0m\u001b[0mYear\u001b[0m\u001b[1;33m(\u001b[0m\u001b[0mdrop\u001b[0m\u001b[1;33m=\u001b[0m\u001b[1;32mTrue\u001b[0m\u001b[1;33m)\u001b[0m\u001b[1;33m)\u001b[0m\u001b[1;33m:\u001b[0m\u001b[1;33m\u001b[0m\u001b[1;33m\u001b[0m\u001b[0m\n\u001b[0m\u001b[0;32m     35\u001b[0m                 \u001b[0mxData\u001b[0m\u001b[1;33m.\u001b[0m\u001b[0mappend\u001b[0m\u001b[1;33m(\u001b[0m\u001b[0mlifeExpectancy\u001b[0m\u001b[1;33m.\u001b[0m\u001b[0mLifeExpectancy\u001b[0m\u001b[1;33m)\u001b[0m\u001b[1;33m\u001b[0m\u001b[1;33m\u001b[0m\u001b[0m\n\u001b[0;32m     36\u001b[0m                 \u001b[0myData\u001b[0m\u001b[1;33m.\u001b[0m\u001b[0mappend\u001b[0m\u001b[1;33m(\u001b[0m\u001b[0mGDPData\u001b[0m\u001b[1;33m.\u001b[0m\u001b[0mGDPPC\u001b[0m\u001b[1;33m)\u001b[0m\u001b[1;33m\u001b[0m\u001b[1;33m\u001b[0m\u001b[0m\n",
      "\u001b[1;31mTypeError\u001b[0m: 'Series' object is not callable"
     ]
    }
   ],
   "source": [
    "import numpy as np\n",
    "import matplotlib.pyplot as plt\n",
    "import pandas as pd\n",
    "from sklearn import datasets \n",
    "\n",
    "disabilityExpected = pd.read_csv(r\"C:\\Users\\Tjend\\OneDrive\\Documents\\Python\\DAT405\\lab1\\DAT405\\expected-years-of-living-with-disability-or-disease-burden.csv\")\n",
    "gdpworldbank = pd.read_csv(r\"C:\\Users\\Tjend\\OneDrive\\Documents\\Python\\DAT405\\lab1\\DAT405\\gdp.csv\")\n",
    "lifeExpectancy = pd.read_csv(r\"C:\\Users\\Tjend\\OneDrive\\Documents\\Python\\DAT405\\lab1\\DAT405\\life-expectancy.csv\")\n",
    "maddison = pd.read_csv(r\"C:\\Users\\Tjend\\OneDrive\\Documents\\Python\\DAT405\\lab1\\DAT405\\maddisongdp.csv\")\n",
    "\n",
    "yData = gdpworldbank.iloc[:,3]\n",
    "xData = lifeExpectancy.iloc[0:a,3]\n",
    "plt.scatter(xData, yData)\n",
    "plt.show()\n",
    "\n",
    "def relateData(lifeExpectancyData, GDPData):\n",
    "    xData = []\n",
    "    yData = []\n",
    "    CodeDataLife = lifeExpectancy.Code\n",
    "    CodeDataGDP = GDPData.Code\n",
    "    YearDataLife = lifeExpectancy.Year\n",
    "    YearDataGDP = GDPData.Year\n",
    "    lifeLen = len(lifeExpectancy)\n",
    "    print(lifeLen)\n",
    "    for i in range(1,lifeLen):\n",
    "        print(i)\n",
    "        for j in range(1,len(GDPData)):\n",
    "            print(j)\n",
    "            print(lifeExpectancy.Code)\n",
    "            print(GDPData.Code)\n",
    "            print(lifeExpectancy.Year)\n",
    "            print(GDPData.Year)\n",
    "\n",
    "            if GDPData.Code(drop=True).equals(lifeExpectancy.Code(drop=True)) and GDPData.Year(drop=True).equals(lifeExpectancy.Year(drop=True)):\n",
    "                xData.append(lifeExpectancy.LifeExpectancy)\n",
    "                yData.append(GDPData.GDPPC)\n",
    "    return(xData, yData)\n",
    "\n",
    "\n",
    "testData = relateData(lifeExpectancy, gdpworldbank)\n",
    "\n",
    "\n",
    "\n",
    "#if lifeExpectancy.Code == GDPData.Code(drop=True).equals(lifeExpectancy.Code(drop=True)) and lifeExpectancy.Year == GDPData.Year:\n",
    "#if GDPData.Code(drop=True).equals(lifeExpectancy.Code(drop=True)) and GDPData.Year(drop=True).equals(lifeExpectancy.Year(drop=True)):\n",
    "\n",
    "\n"
   ]
  },
  {
   "cell_type": "markdown",
   "metadata": {},
   "source": [
    "Problem 1, we decide to scatter plot data which has some correlation to one another, that is, if year and location is the same we scatter plot the given life expectancy vs. gdp data."
   ]
  }
 ],
 "metadata": {
  "interpreter": {
   "hash": "b17223f6b82b6ead5d03b4f699b64a588b6b25a09f8ee11171248f3caffd9323"
  },
  "kernelspec": {
   "display_name": "Python 3.9.4 64-bit",
   "language": "python",
   "name": "python3"
  },
  "language_info": {
   "codemirror_mode": {
    "name": "ipython",
    "version": 3
   },
   "file_extension": ".py",
   "mimetype": "text/x-python",
   "name": "python",
   "nbconvert_exporter": "python",
   "pygments_lexer": "ipython3",
   "version": "3.9.4"
  },
  "orig_nbformat": 4
 },
 "nbformat": 4,
 "nbformat_minor": 2
}
