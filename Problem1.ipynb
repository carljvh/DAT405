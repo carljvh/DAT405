{
 "cells": [
  {
   "cell_type": "code",
   "execution_count": 67,
   "metadata": {},
   "outputs": [
    {
     "name": "stdout",
     "output_type": "stream",
     "text": [
      "                           Entity      Code  Year         GDPPC  \\\n",
      "17                    Afghanistan       AFG  2019   2065.036235   \n",
      "48    Africa Eastern and Southern       NaN  2019   3568.597017   \n",
      "79     Africa Western and Central       NaN  2019   4142.398382   \n",
      "110                       Albania       ALB  2019  13671.488422   \n",
      "141                       Algeria       DZA  2019  11510.557088   \n",
      "...                           ...       ...   ...           ...   \n",
      "6983                      Vanuatu       VUT  2019   3117.678832   \n",
      "7014                      Vietnam       VNM  2019   8041.178384   \n",
      "7045                        World  OWID_WRL  2019  16915.287846   \n",
      "7076                       Zambia       ZMB  2019   3470.448024   \n",
      "7107                     Zimbabwe       ZWE  2019   3027.656038   \n",
      "\n",
      "      PPP (constant 2017 international $)  \n",
      "17                                    NaN  \n",
      "48                                    NaN  \n",
      "79                                    NaN  \n",
      "110                                   NaN  \n",
      "141                                   NaN  \n",
      "...                                   ...  \n",
      "6983                                  NaN  \n",
      "7014                                  NaN  \n",
      "7045                                  NaN  \n",
      "7076                                  NaN  \n",
      "7107                                  NaN  \n",
      "\n",
      "[238 rows x 5 columns]\n",
      "1\n"
     ]
    },
    {
     "ename": "KeyError",
     "evalue": "1",
     "output_type": "error",
     "traceback": [
      "\u001b[1;31m---------------------------------------------------------------------------\u001b[0m",
      "\u001b[1;31mKeyError\u001b[0m                                  Traceback (most recent call last)",
      "\u001b[1;32m~\\AppData\\Local\\Programs\\Python\\Python39\\lib\\site-packages\\pandas\\core\\indexes\\base.py\u001b[0m in \u001b[0;36mget_loc\u001b[1;34m(self, key, method, tolerance)\u001b[0m\n\u001b[0;32m   3079\u001b[0m             \u001b[1;32mtry\u001b[0m\u001b[1;33m:\u001b[0m\u001b[1;33m\u001b[0m\u001b[1;33m\u001b[0m\u001b[0m\n\u001b[1;32m-> 3080\u001b[1;33m                 \u001b[1;32mreturn\u001b[0m \u001b[0mself\u001b[0m\u001b[1;33m.\u001b[0m\u001b[0m_engine\u001b[0m\u001b[1;33m.\u001b[0m\u001b[0mget_loc\u001b[0m\u001b[1;33m(\u001b[0m\u001b[0mcasted_key\u001b[0m\u001b[1;33m)\u001b[0m\u001b[1;33m\u001b[0m\u001b[1;33m\u001b[0m\u001b[0m\n\u001b[0m\u001b[0;32m   3081\u001b[0m             \u001b[1;32mexcept\u001b[0m \u001b[0mKeyError\u001b[0m \u001b[1;32mas\u001b[0m \u001b[0merr\u001b[0m\u001b[1;33m:\u001b[0m\u001b[1;33m\u001b[0m\u001b[1;33m\u001b[0m\u001b[0m\n",
      "\u001b[1;32mpandas\\_libs\\index.pyx\u001b[0m in \u001b[0;36mpandas._libs.index.IndexEngine.get_loc\u001b[1;34m()\u001b[0m\n",
      "\u001b[1;32mpandas\\_libs\\index.pyx\u001b[0m in \u001b[0;36mpandas._libs.index.IndexEngine.get_loc\u001b[1;34m()\u001b[0m\n",
      "\u001b[1;32mpandas\\_libs\\hashtable_class_helper.pxi\u001b[0m in \u001b[0;36mpandas._libs.hashtable.Int64HashTable.get_item\u001b[1;34m()\u001b[0m\n",
      "\u001b[1;32mpandas\\_libs\\hashtable_class_helper.pxi\u001b[0m in \u001b[0;36mpandas._libs.hashtable.Int64HashTable.get_item\u001b[1;34m()\u001b[0m\n",
      "\u001b[1;31mKeyError\u001b[0m: 1",
      "\nThe above exception was the direct cause of the following exception:\n",
      "\u001b[1;31mKeyError\u001b[0m                                  Traceback (most recent call last)",
      "\u001b[1;32m~\\AppData\\Local\\Temp/ipykernel_2616/2180729429.py\u001b[0m in \u001b[0;36m<module>\u001b[1;34m\u001b[0m\n\u001b[0;32m     51\u001b[0m \u001b[1;33m\u001b[0m\u001b[0m\n\u001b[0;32m     52\u001b[0m \u001b[1;33m\u001b[0m\u001b[0m\n\u001b[1;32m---> 53\u001b[1;33m \u001b[0mtestData\u001b[0m \u001b[1;33m=\u001b[0m \u001b[0mrelateData\u001b[0m\u001b[1;33m(\u001b[0m\u001b[0mlifeRelevantYear\u001b[0m\u001b[1;33m,\u001b[0m \u001b[0mGDPRelevantYear\u001b[0m\u001b[1;33m)\u001b[0m\u001b[1;33m\u001b[0m\u001b[1;33m\u001b[0m\u001b[0m\n\u001b[0m\u001b[0;32m     54\u001b[0m \u001b[0mxData\u001b[0m \u001b[1;33m=\u001b[0m \u001b[0mtestData\u001b[0m\u001b[1;33m[\u001b[0m\u001b[1;33m:\u001b[0m\u001b[1;33m,\u001b[0m\u001b[1;36m1\u001b[0m\u001b[1;33m]\u001b[0m\u001b[1;33m\u001b[0m\u001b[1;33m\u001b[0m\u001b[0m\n\u001b[0;32m     55\u001b[0m \u001b[0myData\u001b[0m \u001b[1;33m=\u001b[0m \u001b[0mtestData\u001b[0m\u001b[1;33m[\u001b[0m\u001b[1;33m:\u001b[0m\u001b[1;33m,\u001b[0m\u001b[1;36m2\u001b[0m\u001b[1;33m]\u001b[0m\u001b[1;33m\u001b[0m\u001b[1;33m\u001b[0m\u001b[0m\n",
      "\u001b[1;32m~\\AppData\\Local\\Temp/ipykernel_2616/2180729429.py\u001b[0m in \u001b[0;36mrelateData\u001b[1;34m(lifeExpectancy, GDPData)\u001b[0m\n\u001b[0;32m     44\u001b[0m         \u001b[0mprint\u001b[0m\u001b[1;33m(\u001b[0m\u001b[0mi\u001b[0m\u001b[1;33m)\u001b[0m\u001b[1;33m\u001b[0m\u001b[1;33m\u001b[0m\u001b[0m\n\u001b[0;32m     45\u001b[0m         \u001b[1;32mfor\u001b[0m \u001b[0mj\u001b[0m \u001b[1;32min\u001b[0m \u001b[0mrange\u001b[0m\u001b[1;33m(\u001b[0m\u001b[1;36m1\u001b[0m\u001b[1;33m,\u001b[0m\u001b[0mlen\u001b[0m\u001b[1;33m(\u001b[0m\u001b[0mGDPData\u001b[0m\u001b[1;33m)\u001b[0m\u001b[1;33m)\u001b[0m\u001b[1;33m:\u001b[0m\u001b[1;33m\u001b[0m\u001b[1;33m\u001b[0m\u001b[0m\n\u001b[1;32m---> 46\u001b[1;33m             \u001b[1;32mif\u001b[0m \u001b[0mCodeDataGDP\u001b[0m\u001b[1;33m[\u001b[0m\u001b[0mj\u001b[0m\u001b[1;33m]\u001b[0m \u001b[1;33m==\u001b[0m \u001b[0mCodeDataLife\u001b[0m\u001b[1;33m[\u001b[0m\u001b[0mi\u001b[0m\u001b[1;33m]\u001b[0m\u001b[1;33m:\u001b[0m\u001b[1;33m\u001b[0m\u001b[1;33m\u001b[0m\u001b[0m\n\u001b[0m\u001b[0;32m     47\u001b[0m                 \u001b[0mxData\u001b[0m\u001b[1;33m.\u001b[0m\u001b[0mappend\u001b[0m\u001b[1;33m(\u001b[0m\u001b[0mlifeExpectancy\u001b[0m\u001b[1;33m.\u001b[0m\u001b[0mLifeExpectancy\u001b[0m\u001b[1;33m[\u001b[0m\u001b[0mi\u001b[0m\u001b[1;33m]\u001b[0m\u001b[1;33m)\u001b[0m\u001b[1;33m\u001b[0m\u001b[1;33m\u001b[0m\u001b[0m\n\u001b[0;32m     48\u001b[0m                 \u001b[0myData\u001b[0m\u001b[1;33m.\u001b[0m\u001b[0mappend\u001b[0m\u001b[1;33m(\u001b[0m\u001b[0mGDPData\u001b[0m\u001b[1;33m.\u001b[0m\u001b[0mGDPPC\u001b[0m\u001b[1;33m[\u001b[0m\u001b[0mj\u001b[0m\u001b[1;33m]\u001b[0m\u001b[1;33m)\u001b[0m\u001b[1;33m\u001b[0m\u001b[1;33m\u001b[0m\u001b[0m\n",
      "\u001b[1;32m~\\AppData\\Local\\Programs\\Python\\Python39\\lib\\site-packages\\pandas\\core\\series.py\u001b[0m in \u001b[0;36m__getitem__\u001b[1;34m(self, key)\u001b[0m\n\u001b[0;32m    851\u001b[0m \u001b[1;33m\u001b[0m\u001b[0m\n\u001b[0;32m    852\u001b[0m         \u001b[1;32melif\u001b[0m \u001b[0mkey_is_scalar\u001b[0m\u001b[1;33m:\u001b[0m\u001b[1;33m\u001b[0m\u001b[1;33m\u001b[0m\u001b[0m\n\u001b[1;32m--> 853\u001b[1;33m             \u001b[1;32mreturn\u001b[0m \u001b[0mself\u001b[0m\u001b[1;33m.\u001b[0m\u001b[0m_get_value\u001b[0m\u001b[1;33m(\u001b[0m\u001b[0mkey\u001b[0m\u001b[1;33m)\u001b[0m\u001b[1;33m\u001b[0m\u001b[1;33m\u001b[0m\u001b[0m\n\u001b[0m\u001b[0;32m    854\u001b[0m \u001b[1;33m\u001b[0m\u001b[0m\n\u001b[0;32m    855\u001b[0m         \u001b[1;32mif\u001b[0m \u001b[0mis_hashable\u001b[0m\u001b[1;33m(\u001b[0m\u001b[0mkey\u001b[0m\u001b[1;33m)\u001b[0m\u001b[1;33m:\u001b[0m\u001b[1;33m\u001b[0m\u001b[1;33m\u001b[0m\u001b[0m\n",
      "\u001b[1;32m~\\AppData\\Local\\Programs\\Python\\Python39\\lib\\site-packages\\pandas\\core\\series.py\u001b[0m in \u001b[0;36m_get_value\u001b[1;34m(self, label, takeable)\u001b[0m\n\u001b[0;32m    959\u001b[0m \u001b[1;33m\u001b[0m\u001b[0m\n\u001b[0;32m    960\u001b[0m         \u001b[1;31m# Similar to Index.get_value, but we do not fall back to positional\u001b[0m\u001b[1;33m\u001b[0m\u001b[1;33m\u001b[0m\u001b[1;33m\u001b[0m\u001b[0m\n\u001b[1;32m--> 961\u001b[1;33m         \u001b[0mloc\u001b[0m \u001b[1;33m=\u001b[0m \u001b[0mself\u001b[0m\u001b[1;33m.\u001b[0m\u001b[0mindex\u001b[0m\u001b[1;33m.\u001b[0m\u001b[0mget_loc\u001b[0m\u001b[1;33m(\u001b[0m\u001b[0mlabel\u001b[0m\u001b[1;33m)\u001b[0m\u001b[1;33m\u001b[0m\u001b[1;33m\u001b[0m\u001b[0m\n\u001b[0m\u001b[0;32m    962\u001b[0m         \u001b[1;32mreturn\u001b[0m \u001b[0mself\u001b[0m\u001b[1;33m.\u001b[0m\u001b[0mindex\u001b[0m\u001b[1;33m.\u001b[0m\u001b[0m_get_values_for_loc\u001b[0m\u001b[1;33m(\u001b[0m\u001b[0mself\u001b[0m\u001b[1;33m,\u001b[0m \u001b[0mloc\u001b[0m\u001b[1;33m,\u001b[0m \u001b[0mlabel\u001b[0m\u001b[1;33m)\u001b[0m\u001b[1;33m\u001b[0m\u001b[1;33m\u001b[0m\u001b[0m\n\u001b[0;32m    963\u001b[0m \u001b[1;33m\u001b[0m\u001b[0m\n",
      "\u001b[1;32m~\\AppData\\Local\\Programs\\Python\\Python39\\lib\\site-packages\\pandas\\core\\indexes\\base.py\u001b[0m in \u001b[0;36mget_loc\u001b[1;34m(self, key, method, tolerance)\u001b[0m\n\u001b[0;32m   3080\u001b[0m                 \u001b[1;32mreturn\u001b[0m \u001b[0mself\u001b[0m\u001b[1;33m.\u001b[0m\u001b[0m_engine\u001b[0m\u001b[1;33m.\u001b[0m\u001b[0mget_loc\u001b[0m\u001b[1;33m(\u001b[0m\u001b[0mcasted_key\u001b[0m\u001b[1;33m)\u001b[0m\u001b[1;33m\u001b[0m\u001b[1;33m\u001b[0m\u001b[0m\n\u001b[0;32m   3081\u001b[0m             \u001b[1;32mexcept\u001b[0m \u001b[0mKeyError\u001b[0m \u001b[1;32mas\u001b[0m \u001b[0merr\u001b[0m\u001b[1;33m:\u001b[0m\u001b[1;33m\u001b[0m\u001b[1;33m\u001b[0m\u001b[0m\n\u001b[1;32m-> 3082\u001b[1;33m                 \u001b[1;32mraise\u001b[0m \u001b[0mKeyError\u001b[0m\u001b[1;33m(\u001b[0m\u001b[0mkey\u001b[0m\u001b[1;33m)\u001b[0m \u001b[1;32mfrom\u001b[0m \u001b[0merr\u001b[0m\u001b[1;33m\u001b[0m\u001b[1;33m\u001b[0m\u001b[0m\n\u001b[0m\u001b[0;32m   3083\u001b[0m \u001b[1;33m\u001b[0m\u001b[0m\n\u001b[0;32m   3084\u001b[0m         \u001b[1;32mif\u001b[0m \u001b[0mtolerance\u001b[0m \u001b[1;32mis\u001b[0m \u001b[1;32mnot\u001b[0m \u001b[1;32mNone\u001b[0m\u001b[1;33m:\u001b[0m\u001b[1;33m\u001b[0m\u001b[1;33m\u001b[0m\u001b[0m\n",
      "\u001b[1;31mKeyError\u001b[0m: 1"
     ]
    }
   ],
   "source": [
    "import numpy as np\n",
    "import matplotlib.pyplot as plt\n",
    "import pandas as pd\n",
    "from sklearn import datasets \n",
    "\n",
    "#disabilityExpected = pd.read_csv(r\"C:\\Users\\Tjend\\OneDrive\\Documents\\Python\\DAT405\\lab1\\DAT405\\expected-years-of-living-with-disability-or-disease-burden.csv\")\n",
    "gdpworldbank = pd.read_csv(r\"C:\\Users\\Tjend\\OneDrive\\Documents\\Python\\DAT405\\lab1\\DAT405\\gdp.csv\")\n",
    "lifeExpectancy = pd.read_csv(r\"C:\\Users\\Tjend\\OneDrive\\Documents\\Python\\DAT405\\lab1\\DAT405\\life-expectancy.csv\")\n",
    "#maddison = pd.read_csv(r\"C:\\Users\\Tjend\\OneDrive\\Documents\\Python\\DAT405\\lab1\\DAT405\\maddisongdp.csv\")\n",
    "\n",
    "GDPRelevantYear = gdpworldbank[gdpworldbank[\"Year\"] == 2019]\n",
    "lifeRelevantYear = lifeExpectancy[lifeExpectancy[\"Year\"] == 2019]\n",
    "for i in range()\n",
    "    drop \n",
    "print(GDPRelevantYear)\n",
    "# for i in range(len(gdpworldbank)):\n",
    "#     checkYear = gdpworldbank.Year\n",
    "#     GDPRelevantYear = pd.DataFrame(columns= ['Code','GDPPC'])\n",
    "#     j = 0\n",
    "#     if checkYear[i] == 2019:\n",
    "#         df2 = pd.DataFrame([gdpworldbank.Code[i], gdpworldbank.GDPPC[i]], columns= list('AB'))\n",
    "#         GDPRelevantYear.append(df2, ignore_index=True)\n",
    "#         #GDPRelevantYear = GDPRelevantYear.append([gdpworldbank.Code[i], gdpworldbank.GDPPC[i]], columns= ['Code','GDPPC'], index = range(j))\n",
    "#         j += 1\n",
    "#         print(GDPRelevantYear)\n",
    "\n",
    "# print(GDPRelevantYear)\n",
    "\n",
    "# #for i in range(len(lifeExpectancy)):\n",
    "#  #   checkYear = lifeExpectancy.Year\n",
    "#   #  lifeRelevantYear = pd.DataFrame(columns= ['Code', 'Year', 'LifeExpectancy'])\n",
    "#    # if checkYear[i] == 2019:\n",
    "\n",
    "# #lifeRelevantYear = lifeRelevantYear.append({'Code' : lifeExpectancy.Code[i], 'Year' : lifeExpectancy.Year[i], 'LifeExpectancy' : lifeExpectancy.LifeExpectancy[i]}, ignore_index=True)\n",
    "\n",
    "# print(lifeRelevantYear)\n",
    "\n",
    "def relateData(lifeExpectancy, GDPData):\n",
    "    xData = []\n",
    "    yData = []\n",
    "\n",
    "    CodeDataLife = lifeExpectancy.Code\n",
    "    CodeDataGDP = GDPData.Code\n",
    "\n",
    "    for i in range(1,len(lifeExpectancy)):\n",
    "        print(i)\n",
    "        for j in range(1,len(GDPData)):\n",
    "            if CodeDataGDP[j] == CodeDataLife[i]:\n",
    "                xData.append(lifeExpectancy.LifeExpectancy[i])\n",
    "                yData.append(GDPData.GDPPC[j])\n",
    "    CombinedData = [[xData], [yData]]\n",
    "    return(CombinedData)\n",
    "\n",
    "\n",
    "testData = relateData(lifeRelevantYear, GDPRelevantYear)\n",
    "xData = testData[:,1]\n",
    "yData = testData[:,2]\n",
    "print(xData)\n",
    "print(yData)\n",
    "plt.scatter(xData, yData)\n",
    "plt.show()"
   ]
  },
  {
   "cell_type": "code",
   "execution_count": null,
   "metadata": {},
   "outputs": [],
   "source": []
  },
  {
   "cell_type": "markdown",
   "metadata": {},
   "source": [
    "Problem 1, we decide to scatter plot data which has some correlation to one another, that is, if year and location is the same we scatter plot the given life expectancy vs. gdp data."
   ]
  }
 ],
 "metadata": {
  "interpreter": {
   "hash": "b17223f6b82b6ead5d03b4f699b64a588b6b25a09f8ee11171248f3caffd9323"
  },
  "kernelspec": {
   "display_name": "Python 3.9.4 64-bit",
   "language": "python",
   "name": "python3"
  },
  "language_info": {
   "codemirror_mode": {
    "name": "ipython",
    "version": 3
   },
   "file_extension": ".py",
   "mimetype": "text/x-python",
   "name": "python",
   "nbconvert_exporter": "python",
   "pygments_lexer": "ipython3",
   "version": "3.9.4"
  },
  "orig_nbformat": 4
 },
 "nbformat": 4,
 "nbformat_minor": 2
}
