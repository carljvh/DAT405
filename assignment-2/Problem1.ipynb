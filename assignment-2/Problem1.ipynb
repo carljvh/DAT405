{
 "cells": [
  {
   "cell_type": "code",
   "execution_count": 9,
   "metadata": {},
   "outputs": [
    {
     "name": "stdout",
     "output_type": "stream",
     "text": [
      "0     4600000\n",
      "1     4450000\n",
      "2     4900000\n",
      "3     6625000\n",
      "4     4600000\n",
      "5     6650000\n",
      "6     2800000\n",
      "7     6100000\n",
      "8     3000000\n",
      "9     3000000\n",
      "10    4000000\n",
      "11    4350000\n",
      "12    3025000\n",
      "13    5215000\n",
      "14    4275000\n",
      "15    4100000\n",
      "16    3100000\n",
      "17    5370000\n",
      "18    3000000\n",
      "19    4175000\n",
      "20    3850000\n",
      "21    6300000\n",
      "22    5350000\n",
      "23    4370000\n",
      "24    4250000\n",
      "25    4800000\n",
      "26    5940000\n",
      "27    6600000\n",
      "28    5200000\n",
      "29    3925000\n",
      "30    4350000\n",
      "31    5825000\n",
      "32    2500000\n",
      "33    6050000\n",
      "34    6100000\n",
      "35    4800000\n",
      "36    4200000\n",
      "37    3450000\n",
      "38    6195000\n",
      "39    6050000\n",
      "40    1775000\n",
      "41    5850000\n",
      "42    4960000\n",
      "43    5200000\n",
      "44    6150000\n",
      "45    2360000\n",
      "46    2700000\n",
      "47    5930000\n",
      "48    6800000\n",
      "49    4850000\n",
      "50    5000000\n",
      "51    4245000\n",
      "52    5725000\n",
      "53    5275000\n",
      "54    4850000\n",
      "55    4825000\n",
      "Name: SellingPrice, dtype: int64\n"
     ]
    }
   ],
   "source": [
    "import numpy as np\n",
    "import pandas as pd\n",
    "import matplotlib.pyplot as plt\n",
    "import os\n",
    "from sklearn import linear_model\n",
    "from sklearn.linear_model import LinearRegression\n",
    "from sklearn.linear_model import Ridge\n",
    "\n",
    "dataFolder = \"data-prob-1\"\n",
    "infoHousesFile = os.path.join(dataFolder, \"data_assignment2.csv\")\n",
    "infoHouses = pd.read_csv(infoHousesFile, index_col = False)\n",
    "\n",
    "livingArea = infoHouses.LivingArea\n",
    "prices = infoHouses.SellingPrice\n",
    "\n",
    "print(livingArea)\n",
    "print(prices)"
   ]
  }
 ],
 "metadata": {
  "interpreter": {
   "hash": "70d57a29e63df4f29fe6d226b827cb5aaead90b7fe0031009c901719f91f8860"
  },
  "kernelspec": {
   "display_name": "Python 3.8.12 64-bit ('DAT405': conda)",
   "language": "python",
   "name": "python3"
  },
  "language_info": {
   "codemirror_mode": {
    "name": "ipython",
    "version": 3
   },
   "file_extension": ".py",
   "mimetype": "text/x-python",
   "name": "python",
   "nbconvert_exporter": "python",
   "pygments_lexer": "ipython3",
   "version": "3.8.12"
  },
  "orig_nbformat": 4
 },
 "nbformat": 4,
 "nbformat_minor": 2
}
