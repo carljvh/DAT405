{
 "cells": [
  {
   "cell_type": "code",
   "execution_count": 67,
   "metadata": {},
   "outputs": [
    {
     "name": "stdout",
     "output_type": "stream",
     "text": [
      "Image Data Shape (150, 4)\n",
      "Label Data Shape (150,)\n",
      "0.9555555555555556\n"
     ]
    },
    {
     "data": {
      "image/png": "[encoded data removed]",
      "text/plain": [
       "<Figure size 216x216 with 2 Axes>"
      ]
     },
     "metadata": {
      "needs_background": "light"
     },
     "output_type": "display_data"
    }
   ],
   "source": [
    "import numpy as np\n",
    "import matplotlib.pyplot as plt\n",
    "from sklearn import metrics\n",
    "from sklearn import linear_model\n",
    "from sklearn.linear_model import LogisticRegression\n",
    "from sklearn.model_selection import train_test_split\n",
    "from sklearn.neighbors import KNeighborsClassifier\n",
    "from sklearn.datasets import load_iris\n",
    "import seaborn as sns\n",
    "from sklearn import datasets\n",
    "import pandas as pd\n",
    "\n",
    "iris = datasets.load_iris()\n",
    "print(\"Image Data Shape\", iris.data.shape)\n",
    "print(\"Label Data Shape\", iris.target.shape)\n",
    "\n",
    "xTrain, xTest, yTrain, yTest = train_test_split(iris.data, iris.target, test_size=0.3)\n",
    "model = LogisticRegression(multi_class='ovr', solver='liblinear')\n",
    "model.fit(xTrain, yTrain)\n",
    "predictions = model.predict(xTest)\n",
    "\n",
    "score = model.score(xTest, yTest)\n",
    "print(score)\n",
    "\n",
    "cm = metrics.confusion_matrix(yTest, predictions)\n",
    "x_axis_labels = ('Setosa', 'Versicolor', 'Virginica')\n",
    "y_axis_labels = ('Setosa', 'Versicolor', 'Virginica')\n",
    "plt.figure(figsize = (3,3))\n",
    "sns.heatmap(cm, annot = True, fmt = \"d\", linewidths=.5, square=True, xticklabels=x_axis_labels, yticklabels=y_axis_labels)\n",
    "plt.xlabel(\"Predicted values\")\n",
    "plt.ylabel(\"True values\")\n",
    "all_sample_title = 'Accuracy Score: %.3f' % score\n",
    "plt.title(all_sample_title, size = 12)\n",
    "plt.show()"
   ]
  },
  {
   "cell_type": "markdown",
   "metadata": {},
   "source": [
    "Above we can see the confusion matrix, the accuracy score varies from run to run since we do not have a seed set. However it approximates to 0.94 score."
   ]
  },
  {
   "cell_type": "code",
   "execution_count": 87,
   "metadata": {},
   "outputs": [
    {
     "name": "stdout",
     "output_type": "stream",
     "text": [
      "     Uniform  Distance\n",
      "1   0.955556  0.955556\n",
      "21  0.977778  0.977778\n",
      "41  0.911111  0.977778\n",
      "61  0.911111  0.977778\n",
      "81  0.822222  0.977778\n"
     ]
    }
   ],
   "source": [
    "def classOfNeighbour(N, weight):\n",
    "    knn = KNeighborsClassifier(n_neighbors=N, weights=weight)\n",
    "    knn.fit(xTrain, yTrain)\n",
    "    predictions = knn.predict(xTest)\n",
    "    score = metrics.accuracy_score(yTest, predictions)\n",
    "    return score\n",
    "\n",
    "\n",
    "classificationByNUniform = np.zeros(5, dtype = float)\n",
    "classificationByNDistance = np.zeros(5, dtype = float)\n",
    "indexByK = np.zeros(5, dtype=int)\n",
    "for i in range(5):\n",
    "    iNUni = classOfNeighbour(i*20+1, \"uniform\")\n",
    "    iNDist = classOfNeighbour(i*20+1, \"distance\")\n",
    "    classificationByNUniform[i] = iNUni\n",
    "    classificationByNDistance[i] = iNDist\n",
    "    indexByK[i] = i*20+1\n",
    "\n",
    "dfClassification = pd.DataFrame({\"Uniform\": classificationByNUniform, \"Distance\": classificationByNDistance}, index=indexByK)\n",
    "print(dfClassification)"
   ]
  }
 ],
 "metadata": {
  "interpreter": {
   "hash": "70d57a29e63df4f29fe6d226b827cb5aaead90b7fe0031009c901719f91f8860"
  },
  "kernelspec": {
   "display_name": "Python 3.8.12 64-bit ('DAT405': conda)",
   "language": "python",
   "name": "python3"
  },
  "language_info": {
   "codemirror_mode": {
    "name": "ipython",
    "version": 3
   },
   "file_extension": ".py",
   "mimetype": "text/x-python",
   "name": "python",
   "nbconvert_exporter": "python",
   "pygments_lexer": "ipython3",
   "version": "3.8.12"
  },
  "orig_nbformat": 4
 },
 "nbformat": 4,
 "nbformat_minor": 2
}
