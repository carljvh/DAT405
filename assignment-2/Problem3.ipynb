{
 "cells": [
  {
   "cell_type": "markdown",
   "metadata": {},
   "source": [
    "DAT405 Assignment 2\n",
    "Noah Lanai - 9808252192 - 8h work\n",
    "Theodor Jendle - 9901134339 - 8h work\n",
    "Carl Hjalmarsson - 9305198930 - 8h work"
   ]
  },
  {
   "cell_type": "markdown",
   "metadata": {},
   "source": [
    "When training on a data set, the used model runs a risk of getting overly trained i.e. overfitted for that particular data set. This means that when using the model on another data set it might not produce as accurate results. Splitting up the data set into two or three sub sets; training, test (and validation), we can use the test data to measure the performance of our obtained models, e.g. some polynomial regression by computing the error between true values and predicted values of the test data. The validation set is used to make sure the obtained model is not overfitted, where we keep fitting the model until a certain level of error is achieved. This is done by measuring the error of the prediction vs. the real value of the validation set. "
   ]
  }
 ],
 "metadata": {
  "interpreter": {
   "hash": "70d57a29e63df4f29fe6d226b827cb5aaead90b7fe0031009c901719f91f8860"
  },
  "kernelspec": {
   "display_name": "Python 3.8.12 64-bit ('DAT405': conda)",
   "language": "python",
   "name": "python3"
  },
  "language_info": {
   "name": "python",
   "version": "3.8.12"
  },
  "orig_nbformat": 4
 },
 "nbformat": 4,
 "nbformat_minor": 2
}
