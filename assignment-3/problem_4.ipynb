{
 "cells": [
  {
   "cell_type": "markdown",
   "metadata": {},
   "source": [
    "DAT405 Assignment 3\n",
    "\n",
    "Theodor Jendle - 9901134339 - \n",
    "\n",
    "Carl Hjalmarsson - 9305198930 - "
   ]
  },
  {
   "cell_type": "code",
   "execution_count": null,
   "metadata": {},
   "outputs": [],
   "source": [
    "import nbdime\n",
    "import numpy as np\n",
    "import matplotlib.pyplot as plt\n",
    "import seaborn as sns\n",
    "import pandas as pd\n",
    "\n",
    "prot_angles = pd.read_csv(\"assignment-3-data.cvs\", index_col = False)\n"
   ]
  }
 ],
 "metadata": {
  "interpreter": {
   "hash": "8230433a90deedfd204f402afa77435b9f1612df21a8fe919bc9fb2fb8e7ebcb"
  },
  "kernelspec": {
   "display_name": "Python 3.8.12 64-bit ('dat405': conda)",
   "language": "python",
   "name": "python3"
  },
  "language_info": {
   "name": "python",
   "version": "3.8.12"
  },
  "orig_nbformat": 4
 },
 "nbformat": 4,
 "nbformat_minor": 2
}
