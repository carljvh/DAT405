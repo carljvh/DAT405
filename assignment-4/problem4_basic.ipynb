{
 "cells": [
  {
   "cell_type": "markdown",
   "metadata": {},
   "source": [
    "DAT405 Assignment 4\n",
    "\n",
    "Noah Lanai - 9808252192 - 12h work\n",
    "\n",
    "Carl Hjalmarsson - 9305198930 - 12h work"
   ]
  },
  {
   "cell_type": "code",
   "execution_count": 2,
   "metadata": {},
   "outputs": [],
   "source": [
    "import pandas as pd\n",
    "import tarfile\n",
    "from sklearn.model_selection import train_test_split\n",
    "# Import libraries for Naive Bayes\n",
    "from sklearn.naive_bayes import GaussianNB\n",
    "from sklearn import metrics"
   ]
  },
  {
   "cell_type": "markdown",
   "metadata": {},
   "source": [
    "Task 1:\n",
    "\n",
    "a, b, see code below"
   ]
  },
  {
   "cell_type": "code",
   "execution_count": 3,
   "metadata": {},
   "outputs": [
    {
     "name": "stdout",
     "output_type": "stream",
     "text": [
      "                                                message class\n",
      "0     From fork-admin@xent.com  Mon Aug 26 16:46:43 ...   ham\n",
      "1     From rssfeeds@jmason.org  Tue Oct  1 10:37:39 ...   ham\n",
      "2     From fork-admin@xent.com  Tue Sep 17 18:42:39 ...   ham\n",
      "3     From spamassassin-talk-admin@lists.sourceforge...   ham\n",
      "4     From fork-admin@xent.com  Tue Sep  3 14:24:41 ...   ham\n",
      "...                                                 ...   ...\n",
      "2095  From rpm-list-admin@freshrpms.net  Mon Sep  9 ...   ham\n",
      "2096  From exmh-workers-admin@redhat.com  Wed Oct  2...   ham\n",
      "2097  From rssfeeds@jmason.org  Tue Oct  1 10:36:45 ...   ham\n",
      "2098  Return-Path: list-errors.1700002104.0.17199658...   ham\n",
      "2099  Return-Path: Fool@motleyfool.com\\nDelivery-Dat...   ham\n",
      "\n",
      "[2100 rows x 2 columns]\n"
     ]
    }
   ],
   "source": [
    "# Extract the email content, decode them, and convert as dataframe\n",
    "def extract_files(files, m_class):  \n",
    "    rows = []\n",
    "    for fname in files:\n",
    "        # open the tar file\n",
    "        tfile = tarfile.open(fname, 'r:bz2')\n",
    "        for member in tfile.getmembers():\n",
    "            f = tfile.extractfile(member)\n",
    "            if f is not None:\n",
    "                row = f.read()\n",
    "                #get all the content of file as a row\n",
    "                rows.append({'message': row.decode('latin-1'), 'class': m_class})\n",
    "        tfile.close()\n",
    "    #return rows\n",
    "    return pd.DataFrame(rows)\n",
    "\n",
    "#get one dataframe with all of our files\n",
    "df_ham = extract_files(['./20021010_easy_ham.tar.bz2','./20021010_hard_ham.tar.bz2'], 'ham')\n",
    "df_spam = extract_files(['./20021010_spam.tar.bz2'], 'spam')\n",
    "\n",
    "hamtrain, hamtest = train_test_split(df_ham, test_size = 0.25, random_state = 0)\n",
    "spamtrain, spamtest = train_test_split(df_spam, test_size = 0.25, random_state = 0)\n",
    "\n",
    "hamtrain.reset_index(drop=True, inplace=True)\n",
    "hamtest.reset_index(drop=True, inplace=True)\n",
    "spamtrain.reset_index(drop=True, inplace=True)\n",
    "spamtest.reset_index(drop=True, inplace=True)\n",
    "\n",
    "print(hamtrain)"
   ]
  }
 ],
 "metadata": {
  "interpreter": {
   "hash": "8230433a90deedfd204f402afa77435b9f1612df21a8fe919bc9fb2fb8e7ebcb"
  },
  "kernelspec": {
   "display_name": "Python 3.8.12 64-bit ('dat405': conda)",
   "language": "python",
   "name": "python3"
  },
  "language_info": {
   "codemirror_mode": {
    "name": "ipython",
    "version": 3
   },
   "file_extension": ".py",
   "mimetype": "text/x-python",
   "name": "python",
   "nbconvert_exporter": "python",
   "pygments_lexer": "ipython3",
   "version": "3.8.12"
  },
  "orig_nbformat": 4
 },
 "nbformat": 4,
 "nbformat_minor": 2
}
