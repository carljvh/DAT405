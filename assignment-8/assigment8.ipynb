{
 "cells": [
  {
   "cell_type": "code",
   "execution_count": null,
   "metadata": {},
   "outputs": [],
   "source": [
    "sum () "
   ]
  },
  {
   "cell_type": "markdown",
   "metadata": {},
   "source": [
    "***1***\n",
    "**a)**\n",
    "\n",
    "If we consider a tree structure, for simplicity, Breadth First Search (BFS for short) will search through a complete level of the tree and then procedes to the next level and searches through that one. So with the branching factor $d$ we receive that the number of nodes in a certain level $x$ of the tree is $d^x$.\n",
    "Therefore we have that the maximum number of iterations when using BFS, given these parameters, is: \n",
    "\n",
    "$\\sum_0^r d^r$\n",
    "\n",
    "Where an iteration corresponds to a single computation.\n",
    "\n",
    "**b)**\n",
    "\n",
    "number of solutions r*d^r\n",
    "The total number of possible solutions, i.e number of nodes in level $r$, is $d^r$ and the length of each of these paths is $r$. Thus we have that the maximum amount of memeroy when using BFS is:\n",
    "\n",
    "$rd^r$"
   ]
  },
  {
   "cell_type": "markdown",
   "metadata": {},
   "source": [
    "***2***\n",
    "In order to avoid this problem we need to label the upper node to be greater than 2, such that the goal node is selected in the case of a tie. The reason for labeling this certain node to be greater than 2 is because the 3rd node, of the verticle line, is the only state where we can "
   ]
  }
 ],
 "metadata": {
  "interpreter": {
   "hash": "70d57a29e63df4f29fe6d226b827cb5aaead90b7fe0031009c901719f91f8860"
  },
  "kernelspec": {
   "display_name": "Python 3.8.12 64-bit ('DAT405': conda)",
   "language": "python",
   "name": "python3"
  },
  "language_info": {
   "name": "python",
   "version": "3.8.12"
  },
  "orig_nbformat": 4
 },
 "nbformat": 4,
 "nbformat_minor": 2
}
