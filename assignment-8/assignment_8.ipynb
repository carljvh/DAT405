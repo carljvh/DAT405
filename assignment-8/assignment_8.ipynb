{
 "cells": [
  {
   "cell_type": "markdown",
   "metadata": {},
   "source": [
    "### 1\n",
    "#### a)\n",
    "Since Breadth First Search (BFS) implements a queue, which is first-in-first-out (FIFO), we first add each child node of the current node to the queue, and then visit each child node in some order. This is done recursively throughout the whole tree in order to find the shortest path in the graph. If the last node to be visited in our tree is our goal, we will have visited $\\sum_{0}^{r}d^r$ nodes, if we take each visit to correspond to one iteration of BFS.\n",
    "#### b)\n",
    "Each shortest path to the goal visits $k=r$ nodes, and the maximum number of ways we can move to the goal through the tree is $d^r$. Storing all these in memory takes up $K = rd^r$ memory units."
   ]
  },
  {
   "cell_type": "markdown",
   "metadata": {},
   "source": [
    "Define the zero node as $n_0$, the two node as $n_2$ and the three nodes in the middle of the graph as the triangle $T$, where the left node, the right node and the top node are defined as $T_l$, $T_r$ and $T_t$ respectively. We see that if we choose $T_t = n_1$, when visiting $T_r$ we will always add the two child nodes $n_1$ and $n_2$ where we go to $T_t$ every time as this label is the smallest. The remaining two configurations for $T_l$ and $T_r$ are $T_l = n_3, T_r= n_4$ and $T_l = n_4, T_r = n_3$.\n",
    "\n",
    "To make sure we don't end up in an infinite loop we can choose either $T_l = n_1$ or $T_r = n_1$ since $T_l$ only has $T_r$ as a child node (directed graph), and when visiting $T_r$ the smallest child is always $n_2$ for both $T_t = n_3$ and $T_t = n_4$."
   ]
  },
  {
   "cell_type": "markdown",
   "metadata": {},
   "source": [
    "### 3\n",
    "#### a)\n",
    "<img src=\"book_graph.jpg\" alt=\"book_graph\" width=\"700\"/>\n",
    "\n",
    "#### b)\n",
    "One non-trivial heuristic function that is admissible is the following:\n",
    "$$\n",
    "h(n) = \\mu_n(1-b_n/B)\n",
    "$$\n",
    "where $\\mu$ is the average number of pages that the leftmost topic in the node cover in all the books of the corpus, $b$ is the number of books left that cover the topic, and $B$ is the number of books left in total. The $1-b/B$-factor forces the remaining distance to approach zero as we move closer to our goal. The $\\min$ function ensures that the value given $h$ does not overestimate the remaining distance to the goal, hence giving admissibility."
   ]
  },
  {
   "cell_type": "markdown",
   "metadata": {},
   "source": [
    "### 4\n",
    "#### a)\n",
    "Since we are moving in a geometrical space, it makes sense to add each edge according to the cardinal directions as seen from above, in a clockwise manner. Under this assumption, when starting in node s, corresponding to $43$, we add the edges $[43-44], [43-45], [43-42]$. Next, we assume that a path is defined as following the edges of the lowest cost from a parent node into one of the child nodes and its grandchildren recursively, until the cost of the path becomes equal to or higher than the cost of following the edges of one of the other child nodes. Finally we assume that we assume no backward flow, i.e. we cannot traverse an edge we have traversed before in a backwards manner. This gives the following first five paths:\n",
    "\n",
    "| Path | Steps          | Priority queue: [edge] (weight)                                              |\n",
    "|------|----------------|------------------------------------------------------------------------------|\n",
    "| 1    | 43             | [43-44] (4), [43-53] (6), [43-42] (6)                                        |\n",
    "|      | 43 -> 44       | [44-34] (4), [43-53] (6), [43-42] (6), [44-54] (6)                           |\n",
    "|      | 43 -> 44 -> 34 | [43-53] (6), [43-42] (6), [44-54] (6)                                        |\n",
    "| 2    | 43 -> 53       | [43-42] (6), [44-54] (6), [53-54] (6), [53-63] (8), [53-52] (8)              |\n",
    "| 3    | 43 -> 42       | [44-54] (6), [53-54] (6), [42-32] (6), [53-63] (8), [53-52] (8), [42-41] (8) |\n",
    "| 4    | 43 -> 44 -> 54 | [53-54] (6), [42-32] (6), [53-63] (8), [53-52] (8), [42-41] (8), [54-64] (8) |\n",
    "| 5    | 43 -> 53 -> 54 | [42-32] (6), [53-63] (8), [53-42] (8), [42-41] (8), [54-64] (8)              |\n"
   ]
  },
  {
   "cell_type": "markdown",
   "metadata": {},
   "source": [
    "#### b)\n",
    "\n",
    "The results from running the different algorithms on the given problem are given below:\n",
    "\n",
    "| Algorithm         | # operations |\n",
    "|-------------------|--------------|\n",
    "| A*                | 71           |\n",
    "| BFS               | 364          |\n",
    "| Best-first search | 48           |\n",
    "\n",
    "All methods find the same optimal path. Clearly, the BFS has the worst performance in regards to the number of operations. The reason for this is that, unlike A* and Best-first search, BFS implements a simple unprioritized queue in order to keep track of the nodes to visit, meaning that it visits all the closest nodes first, then the child nodes, then the grandchild nodes, etc. As can be viewed in the visualization, the visited nodes spread out uniformly from the source node until the shortest path is found. The A* algorithm performs the next best, but worse than Best-first search, because it makes use of the cost of the path $g(n)$ as well as a heuristic function $h(n)$ in order to minimize combined the value of the two. In this case, the cost is uniform for all steps which makes the cost function redundant. In addition, if backwards flow is prohibited there are no infinite loops to get stuck in, thus removing one of the potential pitfalls of using Best-first search."
   ]
  },
  {
   "cell_type": "markdown",
   "metadata": {},
   "source": [
    "#### c)\n",
    "The below two images demonstrate a scheme for which the breadth-first search outperforms the greedy best-first search in terms of shortest path. \n",
    "<p>\n",
    "<figcaption>Greedy best-first search</figcaption>\n",
    "<img src=\"GBFS.png\" alt=\"GBFS\" width=\"300\"/>\n",
    "</p>\n",
    "Path length: 31\n",
    "<p>\n",
    "<figcaption>Breadth-first search</figcaption>\n",
    "<img src=\"BFS.png\" alt=\"BFS\" width=\"300\"/>\n",
    "</p>\n",
    "Path length: 21\n",
    "\n",
    "The reason why the BFS outperforms the GBFS in this case is that the BFS search for a globally optimal solution to the problem, which is why it is slower in general. In contrast, the GBFS only searches for a locally optimal solution since the queue implemented prioritizes nodes that are closer to the goal, a behaviour which is compounded, as in the next generation of nodes, some will be even closer to the goal. As the heuristic is based on knowing some facts about the environment of the problem, the GBFS is useful when you have some notion of where to search for your solution."
   ]
  }
 ],
 "metadata": {
  "interpreter": {
   "hash": "8230433a90deedfd204f402afa77435b9f1612df21a8fe919bc9fb2fb8e7ebcb"
  },
  "kernelspec": {
   "display_name": "Python 3.8.12 64-bit ('dat405': conda)",
   "language": "python",
   "name": "python3"
  },
  "language_info": {
   "name": "python",
   "version": "3.8.12"
  },
  "orig_nbformat": 4
 },
 "nbformat": 4,
 "nbformat_minor": 2
}
